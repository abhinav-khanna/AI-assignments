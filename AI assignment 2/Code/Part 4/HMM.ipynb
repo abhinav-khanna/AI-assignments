{
 "cells": [
  {
   "cell_type": "code",
   "execution_count": 3,
   "metadata": {},
   "outputs": [],
   "source": [
    "import numpy as np\n",
    "import random"
   ]
  },
  {
   "cell_type": "code",
   "execution_count": 4,
   "metadata": {},
   "outputs": [
    {
     "data": {
      "text/plain": [
       "(6, 6)"
      ]
     },
     "execution_count": 4,
     "metadata": {},
     "output_type": "execute_result"
    }
   ],
   "source": [
    "T = np.array(\n",
    "    [[0.2, 0.8, 0, 0, 0, 0],\n",
    "     [0.4, 0.2, 0.4, 0, 0, 0],\n",
    "     [0, 0.27, 0.2, 0.27, 0.27, 0],\n",
    "     [0, 0, 0.4, 0.2, 0, 0.27],\n",
    "     [0, 0, 0.8, 0, 0.2, 0],\n",
    "     [0, 0, 0, 0.8, 0, 0.2],])\n",
    "T.shape"
   ]
  },
  {
   "cell_type": "code",
   "execution_count": 5,
   "metadata": {},
   "outputs": [],
   "source": [
    "def generate_O():\n",
    "    O = np.array(\n",
    "        [[0, 0, 0, 0, 0, 0],\n",
    "         [0, 0, 0, 0, 0, 0],\n",
    "         [0, 0, 0, 0, 0, 0],\n",
    "         [0, 0, 0, 0, 0, 0],\n",
    "         [0, 0, 0, 0, 0, 0],\n",
    "         [0, 0, 0, 0, 0, 0],])\n",
    "\n",
    "    O = O.astype(float)\n",
    "\n",
    "    error_rate = 0.25\n",
    "\n",
    "    for i in range(O.shape[0]):\n",
    "        discrepancies = random.randint(1,4)\n",
    "        O[i][i] = float(((1-error_rate)**(4-discrepancies)) * (error_rate**discrepancies))\n",
    "    #     print(((1-error_rate)**(4-discrepancies)) * (error_rate**discrepancies))\n",
    "    #     O[i][i] = 0.5\n",
    "\n",
    "#     print(O)\n",
    "    \n",
    "    return O"
   ]
  },
  {
   "cell_type": "code",
   "execution_count": 6,
   "metadata": {},
   "outputs": [],
   "source": [
    "def normalize(arr):\n",
    "#     arr = a\n",
    "#     print(arr)\n",
    "    s = sum(arr)[0]\n",
    "    \n",
    "    new_arr = np.array([[]])\n",
    "    \n",
    "    for x in arr:\n",
    "        new_arr = np.append(new_arr, x/s)\n",
    "        \n",
    "#     print(new_arr)\n",
    "#     print(new_arr.shape)\n",
    "    return new_arr.transpose()"
   ]
  },
  {
   "cell_type": "code",
   "execution_count": 8,
   "metadata": {},
   "outputs": [
    {
     "name": "stdout",
     "output_type": "stream",
     "text": [
      "S0: [0.21451271] S1: [0.05045021] S2: [0.64353814] S3: [0.01681674] S4: [0.01867055] S5: [0.05601165] \n",
      "\n",
      "S0: [0.66729765] S1: [0.13074274] S2: [0.03535748] S3: [0.14916332] S4: [0.01386022] S5: [0.00357858] \n",
      "\n",
      "S0: [0.00356738] S1: [0.22391746] S2: [0.57196173] S3: [0.05038616] S4: [0.08822268] S5: [0.0619446] \n",
      "\n",
      "S0: [0.17126911] S1: [0.2191316] S2: [0.40758102] S3: [0.14991869] S4: [0.00968829] S5: [0.04241128] \n",
      "\n",
      "S0: [0.01484522] S1: [0.05767924] S2: [0.36315274] S3: [0.26475477] S4: [0.28272521] S5: [0.01684281] \n",
      "\n",
      "S0: [0.1122027] S1: [0.0431428] S2: [0.44650683] S3: [0.04460475] S4: [0.34566261] S5: [0.00788031] \n",
      "\n",
      "S0: [0.06626181] S1: [0.5466856] S2: [0.1146652] S3: [0.04533084] S4: [0.20977785] S5: [0.0172787] \n",
      "\n",
      "S0: [0.30203183] S1: [0.07952705] S2: [0.0358179] S3: [0.50660786] S4: [0.0490256] S5: [0.02698975] \n",
      "\n",
      "S0: [0.00282175] S1: [0.21091812] S2: [0.07693942] S3: [0.10234861] S4: [0.54872562] S5: [0.05824648] \n",
      "\n",
      "S0: [0.06126364] S1: [0.24239956] S2: [0.39905281] S3: [0.15462491] S4: [0.1226584] S5: [0.02000068] \n",
      "\n"
     ]
    }
   ],
   "source": [
    "f = np.array([[1/6,1/6,1/6,1/6,1/6,1/6]])\n",
    "f = f.transpose()\n",
    "\n",
    "for i in range(100):\n",
    "    O = generate_O()\n",
    "    new_f = normalize(O @ T.transpose() @ f)\n",
    "    f = np.array([new_f]).transpose()\n",
    "    \n",
    "    if i%10 == 0:\n",
    "        for s in range(len(f)):\n",
    "            print('S' + str(s) + ': ' + str(f[s]), end=' ')\n",
    "        print('\\n')\n"
   ]
  },
  {
   "cell_type": "code",
   "execution_count": 32,
   "metadata": {},
   "outputs": [
    {
     "data": {
      "text/plain": [
       "0.022526041666666663"
      ]
     },
     "execution_count": 32,
     "metadata": {},
     "output_type": "execute_result"
    }
   ],
   "source": [
    "sum(new_f)[0]"
   ]
  }
 ],
 "metadata": {
  "kernelspec": {
   "display_name": "Python 3",
   "language": "python",
   "name": "python3"
  },
  "language_info": {
   "codemirror_mode": {
    "name": "ipython",
    "version": 3
   },
   "file_extension": ".py",
   "mimetype": "text/x-python",
   "name": "python",
   "nbconvert_exporter": "python",
   "pygments_lexer": "ipython3",
   "version": "3.7.7"
  }
 },
 "nbformat": 4,
 "nbformat_minor": 2
}
