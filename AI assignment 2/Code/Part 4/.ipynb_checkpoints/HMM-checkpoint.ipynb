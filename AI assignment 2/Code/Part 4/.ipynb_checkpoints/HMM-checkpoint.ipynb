{
 "cells": [
  {
   "cell_type": "code",
   "execution_count": 1,
   "metadata": {},
   "outputs": [],
   "source": [
    "import numpy as np\n",
    "import random"
   ]
  },
  {
   "cell_type": "code",
   "execution_count": 2,
   "metadata": {},
   "outputs": [
    {
     "data": {
      "text/plain": [
       "(6, 6)"
      ]
     },
     "execution_count": 2,
     "metadata": {},
     "output_type": "execute_result"
    }
   ],
   "source": [
    "T = np.array(\n",
    "    [[0.2, 0.8, 0, 0, 0, 0],\n",
    "     [0.4, 0.2, 0.4, 0, 0, 0],\n",
    "     [0, 0.27, 0.2, 0.27, 0.27, 0],\n",
    "     [0, 0, 0.4, 0.2, 0, 0.27],\n",
    "     [0, 0, 0.8, 0, 0.2, 0],\n",
    "     [0, 0, 0, 0.8, 0, 0.2],])\n",
    "T.shape"
   ]
  },
  {
   "cell_type": "code",
   "execution_count": 3,
   "metadata": {},
   "outputs": [],
   "source": [
    "def generate_O():\n",
    "    O = np.array(\n",
    "        [[0, 0, 0, 0, 0, 0],\n",
    "         [0, 0, 0, 0, 0, 0],\n",
    "         [0, 0, 0, 0, 0, 0],\n",
    "         [0, 0, 0, 0, 0, 0],\n",
    "         [0, 0, 0, 0, 0, 0],\n",
    "         [0, 0, 0, 0, 0, 0],])\n",
    "\n",
    "    O = O.astype(float)\n",
    "\n",
    "    error_rate = 0.25\n",
    "\n",
    "    for i in range(O.shape[0]):\n",
    "        discrepancies = random.randint(1,4)\n",
    "        O[i][i] = float(((1-error_rate)**(4-discrepancies)) * (error_rate**discrepancies))\n",
    "    #     print(((1-error_rate)**(4-discrepancies)) * (error_rate**discrepancies))\n",
    "    #     O[i][i] = 0.5\n",
    "\n",
    "#     print(O)\n",
    "    \n",
    "    return O"
   ]
  },
  {
   "cell_type": "code",
   "execution_count": 4,
   "metadata": {},
   "outputs": [],
   "source": [
    "def normalize(arr):\n",
    "#     arr = a\n",
    "#     print(arr)\n",
    "    s = sum(arr)[0]\n",
    "    \n",
    "    new_arr = np.array([[]])\n",
    "    \n",
    "    for x in arr:\n",
    "        new_arr = np.append(new_arr, x/s)\n",
    "        \n",
    "#     print(new_arr)\n",
    "#     print(new_arr.shape)\n",
    "    return new_arr.transpose()"
   ]
  },
  {
   "cell_type": "code",
   "execution_count": 5,
   "metadata": {},
   "outputs": [
    {
     "name": "stdout",
     "output_type": "stream",
     "text": [
      "[[0.19085768]\n",
      " [0.40398209]\n",
      " [0.19085768]\n",
      " [0.0149623 ]\n",
      " [0.04983506]\n",
      " [0.14950518]]\n",
      "\n",
      "[[0.24417046]\n",
      " [0.2523521 ]\n",
      " [0.13228243]\n",
      " [0.29846034]\n",
      " [0.0660341 ]\n",
      " [0.00670057]]\n",
      "\n",
      "[[0.25868273]\n",
      " [0.00993223]\n",
      " [0.02941549]\n",
      " [0.35920227]\n",
      " [0.00760104]\n",
      " [0.33516624]]\n",
      "\n",
      "[[0.01798924]\n",
      " [0.01800751]\n",
      " [0.62331789]\n",
      " [0.07785893]\n",
      " [0.23224077]\n",
      " [0.03058566]]\n",
      "\n",
      "[[0.24649075]\n",
      " [0.03647346]\n",
      " [0.02977724]\n",
      " [0.46819188]\n",
      " [0.0053059 ]\n",
      " [0.21376077]]\n",
      "\n",
      "[[0.00660487]\n",
      " [0.00277288]\n",
      " [0.69293656]\n",
      " [0.00788704]\n",
      " [0.13799728]\n",
      " [0.15180137]]\n",
      "\n",
      "[[0.13407264]\n",
      " [0.02605332]\n",
      " [0.04977344]\n",
      " [0.23622824]\n",
      " [0.54399095]\n",
      " [0.00988142]]\n",
      "\n",
      "[[0.01597775]\n",
      " [0.31188082]\n",
      " [0.3727139 ]\n",
      " [0.03371602]\n",
      " [0.26070098]\n",
      " [0.00501053]]\n",
      "\n",
      "[[0.00700064]\n",
      " [0.26181868]\n",
      " [0.58015511]\n",
      " [0.02323673]\n",
      " [0.01709018]\n",
      " [0.11069866]]\n",
      "\n",
      "[[0.2001033 ]\n",
      " [0.12177077]\n",
      " [0.34432085]\n",
      " [0.1622673 ]\n",
      " [0.08742845]\n",
      " [0.08410933]]\n",
      "\n"
     ]
    }
   ],
   "source": [
    "f = np.array([[1/6,1/6,1/6,1/6,1/6,1/6]])\n",
    "f = f.transpose()\n",
    "\n",
    "for i in range(100):\n",
    "    O = generate_O()\n",
    "    new_f = normalize(O @ T.transpose() @ f)\n",
    "    f = np.array([new_f]).transpose()\n",
    "    \n",
    "    if i%10 == 0:\n",
    "        print(f)\n",
    "        print()\n",
    "#         print(sum(f))\n"
   ]
  },
  {
   "cell_type": "code",
   "execution_count": 32,
   "metadata": {},
   "outputs": [
    {
     "data": {
      "text/plain": [
       "0.022526041666666663"
      ]
     },
     "execution_count": 32,
     "metadata": {},
     "output_type": "execute_result"
    }
   ],
   "source": [
    "sum(new_f)[0]"
   ]
  }
 ],
 "metadata": {
  "kernelspec": {
   "display_name": "Python 3",
   "language": "python",
   "name": "python3"
  },
  "language_info": {
   "codemirror_mode": {
    "name": "ipython",
    "version": 3
   },
   "file_extension": ".py",
   "mimetype": "text/x-python",
   "name": "python",
   "nbconvert_exporter": "python",
   "pygments_lexer": "ipython3",
   "version": "3.7.7"
  }
 },
 "nbformat": 4,
 "nbformat_minor": 2
}
