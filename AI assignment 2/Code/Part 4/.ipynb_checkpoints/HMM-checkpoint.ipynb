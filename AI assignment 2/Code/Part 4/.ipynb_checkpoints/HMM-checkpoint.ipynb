{
 "cells": [
  {
   "cell_type": "code",
   "execution_count": 1,
   "metadata": {},
   "outputs": [],
   "source": [
    "import numpy as np\n",
    "import random"
   ]
  },
  {
   "cell_type": "code",
   "execution_count": 2,
   "metadata": {},
   "outputs": [
    {
     "data": {
      "text/plain": [
       "(6, 6)"
      ]
     },
     "execution_count": 2,
     "metadata": {},
     "output_type": "execute_result"
    }
   ],
   "source": [
    "# create 6 x 6 matrix to represent transition model\n",
    "T = np.array(\n",
    "    [[0.2, 0.8, 0, 0, 0, 0],\n",
    "     [0.4, 0.2, 0.4, 0, 0, 0],\n",
    "     [0, 0.27, 0.2, 0.27, 0.27, 0],\n",
    "     [0, 0, 0.4, 0.2, 0, 0.27],\n",
    "     [0, 0, 0.8, 0, 0.2, 0],\n",
    "     [0, 0, 0, 0.8, 0, 0.2],])\n",
    "T.shape"
   ]
  },
  {
   "cell_type": "code",
   "execution_count": 3,
   "metadata": {},
   "outputs": [],
   "source": [
    "# Create O matrix such that O[i][i] = P( et |Xt = i)\n",
    "def generate_O():\n",
    "    O = np.array(\n",
    "        [[0, 0, 0, 0, 0, 0],\n",
    "         [0, 0, 0, 0, 0, 0],\n",
    "         [0, 0, 0, 0, 0, 0],\n",
    "         [0, 0, 0, 0, 0, 0],\n",
    "         [0, 0, 0, 0, 0, 0],\n",
    "         [0, 0, 0, 0, 0, 0],])\n",
    "\n",
    "    O = O.astype(float)\n",
    "\n",
    "    error_rate = 0.25\n",
    "\n",
    "    for i in range(O.shape[0]):\n",
    "        discrepancies = random.randint(1,4)\n",
    "        O[i][i] = float(((1-error_rate)**(4-discrepancies)) * (error_rate**discrepancies))\n",
    "        \n",
    "    return O"
   ]
  },
  {
   "cell_type": "code",
   "execution_count": 6,
   "metadata": {},
   "outputs": [],
   "source": [
    "# normalize array so that all values in it sum to 1\n",
    "def normalize(arr):\n",
    "\n",
    "    s = sum(arr)[0]\n",
    "    \n",
    "    new_arr = np.array([[]])\n",
    "    \n",
    "    for x in arr:\n",
    "        new_arr = np.append(new_arr, x/s)\n",
    "        \n",
    "    return new_arr.transpose()"
   ]
  },
  {
   "cell_type": "code",
   "execution_count": 7,
   "metadata": {},
   "outputs": [
    {
     "name": "stdout",
     "output_type": "stream",
     "text": [
      "S0: [0.02595156] S1: [0.16479239] S2: [0.23356401] S3: [0.49437716] S4: [0.06098616] S5: [0.02032872] \n",
      "\n",
      "S0: [0.0174967] S1: [0.06144776] S2: [0.37874587] S3: [0.02828023] S4: [0.47981184] S5: [0.03421761] \n",
      "\n",
      "S0: [0.00221175] S1: [0.00210778] S2: [0.02041968] S3: [0.40969144] S4: [0.00065321] S5: [0.56491614] \n",
      "\n",
      "S0: [0.04456013] S1: [0.23529126] S2: [0.14147373] S3: [0.3207592] S4: [0.20270432] S5: [0.05521136] \n",
      "\n",
      "S0: [0.02604584] S1: [0.4344213] S2: [0.25172819] S3: [0.06807552] S4: [0.20809995] S5: [0.0116292] \n",
      "\n",
      "S0: [0.12004273] S1: [0.25564721] S2: [0.47636055] S3: [0.05453505] S4: [0.03422963] S5: [0.05918483] \n",
      "\n",
      "S0: [0.08762462] S1: [0.6398733] S2: [0.26247066] S3: [0.00132083] S4: [0.00131655] S5: [0.00739405] \n",
      "\n",
      "S0: [0.00031346] S1: [0.00539117] S2: [0.36936626] S3: [0.2509062] S4: [0.00612385] S5: [0.36789906] \n",
      "\n",
      "S0: [0.02370673] S1: [0.52444993] S2: [0.05346242] S3: [0.29356282] S4: [0.1043626] S5: [0.0004555] \n",
      "\n",
      "S0: [0.17710851] S1: [0.5443635] S2: [0.21627798] S3: [0.01395746] S4: [0.0138801] S5: [0.03441244] \n",
      "\n"
     ]
    }
   ],
   "source": [
    "# Initialize forwarding vector by giving all state equal probablities\n",
    "f = np.array([[1/6,1/6,1/6,1/6,1/6,1/6]])\n",
    "f = f.transpose()\n",
    "\n",
    "for i in range(100):\n",
    "    O = generate_O()\n",
    "    new_f = normalize(O @ T.transpose() @ f)\n",
    "    f = np.array([new_f]).transpose()\n",
    "    \n",
    "    if i%10 == 0:\n",
    "        for s in range(len(f)):\n",
    "            print('S' + str(s) + ': ' + str(f[s]), end=' ')\n",
    "        print('\\n')\n"
   ]
  }
 ],
 "metadata": {
  "kernelspec": {
   "display_name": "Python 3",
   "language": "python",
   "name": "python3"
  },
  "language_info": {
   "codemirror_mode": {
    "name": "ipython",
    "version": 3
   },
   "file_extension": ".py",
   "mimetype": "text/x-python",
   "name": "python",
   "nbconvert_exporter": "python",
   "pygments_lexer": "ipython3",
   "version": "3.7.7"
  }
 },
 "nbformat": 4,
 "nbformat_minor": 2
}
