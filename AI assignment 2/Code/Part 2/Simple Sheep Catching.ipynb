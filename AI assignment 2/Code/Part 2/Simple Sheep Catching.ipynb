{
 "cells": [
  {
   "cell_type": "code",
   "execution_count": 1,
   "metadata": {},
   "outputs": [],
   "source": [
    "import random"
   ]
  },
  {
   "cell_type": "code",
   "execution_count": 2,
   "metadata": {},
   "outputs": [],
   "source": [
    "rows = 8\n",
    "columns = 8\n",
    "MAX_MOVES = 100"
   ]
  },
  {
   "cell_type": "code",
   "execution_count": 3,
   "metadata": {},
   "outputs": [],
   "source": [
    "# initialize grid randomly\n",
    "\n",
    "def initialize_grid():\n",
    "    man_1_row = random.randint(0,rows-1)\n",
    "    man_1_col = random.randint(0,columns-1)\n",
    "    man_2_row = random.randint(0,rows-1)\n",
    "    man_2_col = random.randint(0,columns-1)\n",
    "    sheep_row = random.randint(0,rows-1)\n",
    "    sheep_col = random.randint(0,columns-1)\n",
    "    \n",
    "    return (man_1_row, man_1_col, man_2_row, man_2_col, sheep_row, sheep_col)"
   ]
  },
  {
   "cell_type": "code",
   "execution_count": 4,
   "metadata": {},
   "outputs": [],
   "source": [
    "# check for winning positions\n",
    "def winning_position(man_1_row, man_1_col, man_2_row, man_2_col, sheep_row, sheep_col):\n",
    "    if man_1_row == sheep_row:\n",
    "        if abs(man_1_col - sheep_col) == 1:\n",
    "            return (True, 'Caveman_1')\n",
    "    \n",
    "    if man_1_col == sheep_col:\n",
    "        if abs(man_1_row - sheep_row) == 1:\n",
    "            return (True, 'Caveman_1')\n",
    "    \n",
    "    if man_2_row == sheep_row:\n",
    "        if abs(man_2_col - sheep_col) == 1:\n",
    "            return (True, 'Caveman_2')\n",
    "    \n",
    "    if man_2_col == sheep_col:\n",
    "        if abs(man_2_row - sheep_row) == 1:\n",
    "            return (True, 'Caveman_2')\n",
    "        \n",
    "    return (False, 'None')"
   ]
  },
  {
   "cell_type": "code",
   "execution_count": 5,
   "metadata": {},
   "outputs": [],
   "source": [
    "def left_move_is_possible(man_1_col, man_2_col):\n",
    "    if man_1_col == 0 or (man_2_col == man_1_col-1 and man_1_row == man_2_row):\n",
    "        return False\n",
    "    \n",
    "    return True"
   ]
  },
  {
   "cell_type": "code",
   "execution_count": 6,
   "metadata": {},
   "outputs": [],
   "source": [
    "def right_move_is_possible(man_1_col, man_2_col):\n",
    "    if man_1_col == columns-1 or (man_2_col == man_1_col+1 and man_1_row == man_2_row):\n",
    "        return False\n",
    "    \n",
    "    return True"
   ]
  },
  {
   "cell_type": "code",
   "execution_count": 7,
   "metadata": {},
   "outputs": [],
   "source": [
    "def up_move_is_possible(man_1_row, man_2_row):\n",
    "    if man_1_row == rows-1 or (man_2_row == man_1_row+1 and man_2_col == man_1_col):\n",
    "        return False\n",
    "    \n",
    "    return True"
   ]
  },
  {
   "cell_type": "code",
   "execution_count": 8,
   "metadata": {},
   "outputs": [],
   "source": [
    "def down_move_is_possible(man_1_row, man_2_row):\n",
    "    if man_1_row == 0 or (man_2_row == man_1_row-1 and man_2_col == man_1_col):\n",
    "        return False\n",
    "    \n",
    "    return True"
   ]
  },
  {
   "cell_type": "code",
   "execution_count": 9,
   "metadata": {},
   "outputs": [],
   "source": [
    "# Update Caveman 1 and Caveman 2 position to minimize distance from sheep\n",
    "def update_man_position(man_1_row, man_1_col, man_2_row, man_2_col, sheep_row, sheep_col):\n",
    "    \n",
    "    sheep_dist = abs(man_1_row - sheep_row) + abs(man_1_col - sheep_col)\n",
    "    new_pos = ()\n",
    "    random_pos = (man_1_row, man_1_col)\n",
    "    \n",
    "    if down_move_is_possible(man_1_row, man_2_row):\n",
    "        if abs(man_1_row-1 - sheep_row) + abs(man_1_col - sheep_col) < sheep_dist:\n",
    "            sheep_dist = abs(man_1_row-1 - sheep_row) + abs(man_1_col - sheep_col)\n",
    "            new_pos = (man_1_row-1, man_1_col)\n",
    "    \n",
    "    if up_move_is_possible(man_1_row, man_2_row):\n",
    "        if abs(man_1_row+1 - sheep_row) + abs(man_1_col - sheep_col) < sheep_dist:\n",
    "            sheep_dist = abs(man_1_row+1 - sheep_row) + abs(man_1_col - sheep_col)\n",
    "            new_pos = (man_1_row+1, man_1_col)\n",
    "    \n",
    "    if right_move_is_possible(man_1_col, man_2_col):\n",
    "        if abs(man_1_row - sheep_row) + abs(man_1_col+1 - sheep_col) < sheep_dist:\n",
    "            sheep_dist = abs(man_1_row - sheep_row) + abs(man_1_col+1 - sheep_col)\n",
    "            new_pos = (man_1_row, man_1_col+1)\n",
    "    \n",
    "    if left_move_is_possible(man_1_col, man_2_col):\n",
    "        if abs(man_1_row - sheep_row) + abs(man_1_col-1 - sheep_col) < sheep_dist:\n",
    "            sheep_dist = abs(man_1_row - sheep_row) + abs(man_1_col-1 - sheep_col)\n",
    "            new_pos = (man_1_row, man_1_col-1)\n",
    "    \n",
    "# Update man position correctly only 80% of times\n",
    "    if random.random() < 0.8:\n",
    "        if sheep_dist < abs(man_1_row - sheep_row) + abs(man_1_col - sheep_col):\n",
    "            return new_pos\n",
    "        else:\n",
    "            return (man_1_row, man_1_col)\n",
    "    else:\n",
    "        return random_pos"
   ]
  },
  {
   "cell_type": "code",
   "execution_count": 10,
   "metadata": {},
   "outputs": [],
   "source": [
    "def single_up_right_move_possible(sheep_row, sheep_col):\n",
    "    if sheep_row+1 < rows and sheep_col+1 < columns:\n",
    "        return True\n",
    "    \n",
    "    return False"
   ]
  },
  {
   "cell_type": "code",
   "execution_count": 11,
   "metadata": {},
   "outputs": [],
   "source": [
    "def single_down_right_move_possible(sheep_row, sheep_col):\n",
    "    if sheep_row-1 >= 0 and sheep_col+1 < columns:\n",
    "        return True\n",
    "    \n",
    "    return False"
   ]
  },
  {
   "cell_type": "code",
   "execution_count": 12,
   "metadata": {},
   "outputs": [],
   "source": [
    "def single_down_left_move_possible(sheep_row, sheep_col):\n",
    "    if sheep_row-1 >= 0 and sheep_col - 1 >= 0:\n",
    "        return True\n",
    "    \n",
    "    return False"
   ]
  },
  {
   "cell_type": "code",
   "execution_count": 13,
   "metadata": {},
   "outputs": [],
   "source": [
    "def single_up_left_move_possible(sheep_row, sheep_col):\n",
    "    if sheep_row + 1 < rows and sheep_col - 1 >= 0 :\n",
    "        return True\n",
    "    \n",
    "    return False"
   ]
  },
  {
   "cell_type": "code",
   "execution_count": 14,
   "metadata": {},
   "outputs": [],
   "source": [
    "def up_right_move_possible(sheep_row, sheep_col):\n",
    "    if sheep_row+2 < rows and sheep_col+2 < columns:\n",
    "        return True\n",
    "    \n",
    "    return False"
   ]
  },
  {
   "cell_type": "code",
   "execution_count": 15,
   "metadata": {},
   "outputs": [],
   "source": [
    "def down_right_move_possible(sheep_row, sheep_col):\n",
    "    if sheep_row-2 >= 0 and sheep_col+2 < columns:\n",
    "        return True\n",
    "    \n",
    "    return False"
   ]
  },
  {
   "cell_type": "code",
   "execution_count": 16,
   "metadata": {},
   "outputs": [],
   "source": [
    "def down_left_move_possible(sheep_row, sheep_col):\n",
    "    if sheep_row-2 >= 0 and sheep_col - 2 >= 0:\n",
    "        return True\n",
    "    \n",
    "    return False"
   ]
  },
  {
   "cell_type": "code",
   "execution_count": 17,
   "metadata": {},
   "outputs": [],
   "source": [
    "def up_left_move_possible(sheep_row, sheep_col):\n",
    "    if sheep_row + 2 < rows and sheep_col - 2 >= 0 :\n",
    "        return True\n",
    "    \n",
    "    return False"
   ]
  },
  {
   "cell_type": "code",
   "execution_count": 18,
   "metadata": {},
   "outputs": [],
   "source": [
    "def manhattan_dist(row_a, col_a, row_b, col_b):\n",
    "    return abs(row_a - row_b) + abs(col_a - col_b)"
   ]
  },
  {
   "cell_type": "code",
   "execution_count": 19,
   "metadata": {},
   "outputs": [],
   "source": [
    "def dist_nearest_corner(sheep_row, sheep_col):\n",
    "    return min(manhattan_dist(sheep_row, sheep_col, 0, 0), manhattan_dist(sheep_row, sheep_col, rows-1, 0), manhattan_dist(sheep_row, sheep_col, 0, columns-1), manhattan_dist(sheep_row, sheep_col, rows-1, columns-1))"
   ]
  },
  {
   "cell_type": "code",
   "execution_count": 20,
   "metadata": {},
   "outputs": [],
   "source": [
    "# Update sheep position to maximize sum of distance of nearest corner, distance from caveman 1 and 2\n",
    "def update_sheep_position(man_1_row, man_1_col, man_2_row, man_2_col, sheep_row, sheep_col):\n",
    "    total_dist = 0\n",
    "    new_pos = ()\n",
    "    \n",
    "    if up_right_move_possible(sheep_row, sheep_col):\n",
    "        temp_dist = dist_nearest_corner(sheep_row+2, sheep_col+2) + manhattan_dist(sheep_row+2, sheep_col+2, man_1_row, man_1_col) + manhattan_dist(sheep_row+2, sheep_col+2, man_2_row, man_2_col)\n",
    "        if temp_dist > total_dist:\n",
    "            total_dist = temp_dist\n",
    "            new_pos = (sheep_row+2, sheep_col+2)\n",
    "        \n",
    "    \n",
    "    if down_right_move_possible(sheep_row, sheep_col):\n",
    "        temp_dist = dist_nearest_corner(sheep_row-2, sheep_col+2) + manhattan_dist(sheep_row-2, sheep_col+2, man_1_row, man_1_col) + manhattan_dist(sheep_row-2, sheep_col+2, man_2_row, man_2_col)\n",
    "        if temp_dist > total_dist:\n",
    "            total_dist = temp_dist\n",
    "            new_pos = (sheep_row-2, sheep_col+2)\n",
    "    \n",
    "    if down_left_move_possible(sheep_row, sheep_col):\n",
    "        temp_dist = dist_nearest_corner(sheep_row-2, sheep_col-2) + manhattan_dist(sheep_row-2, sheep_col-2, man_1_row, man_1_col) + manhattan_dist(sheep_row-2, sheep_col-2, man_2_row, man_2_col)\n",
    "        if temp_dist > total_dist:\n",
    "            total_dist = temp_dist\n",
    "            new_pos = (sheep_row-2, sheep_col-2)\n",
    "    \n",
    "    if up_left_move_possible(sheep_row, sheep_col):\n",
    "        temp_dist = dist_nearest_corner(sheep_row+2, sheep_col-2) + manhattan_dist(sheep_row+2, sheep_col-2, man_1_row, man_1_col) + manhattan_dist(sheep_row+2, sheep_col-2, man_2_row, man_2_col)\n",
    "        if temp_dist > total_dist:\n",
    "            total_dist = temp_dist\n",
    "            new_pos = (sheep_row+2, sheep_col-2)\n",
    "    \n",
    "    if single_up_right_move_possible(sheep_row, sheep_col):\n",
    "        temp_dist = dist_nearest_corner(sheep_row+1, sheep_col+1) + manhattan_dist(sheep_row+1, sheep_col+1, man_1_row, man_1_col) + manhattan_dist(sheep_row+1, sheep_col+1, man_2_row, man_2_col)\n",
    "        if temp_dist > total_dist:\n",
    "            total_dist = temp_dist\n",
    "            new_pos = (sheep_row+1, sheep_col+1)\n",
    "        \n",
    "    \n",
    "    if single_down_right_move_possible(sheep_row, sheep_col):\n",
    "        temp_dist = dist_nearest_corner(sheep_row-1, sheep_col+1) + manhattan_dist(sheep_row-1, sheep_col+1, man_1_row, man_1_col) + manhattan_dist(sheep_row-1, sheep_col+1, man_2_row, man_2_col)\n",
    "        if temp_dist > total_dist:\n",
    "            total_dist = temp_dist\n",
    "            new_pos = (sheep_row-1, sheep_col+1)\n",
    "    \n",
    "    if single_down_left_move_possible(sheep_row, sheep_col):\n",
    "        temp_dist = dist_nearest_corner(sheep_row-1, sheep_col-1) + manhattan_dist(sheep_row-1, sheep_col-1, man_1_row, man_1_col) + manhattan_dist(sheep_row-1, sheep_col-1, man_2_row, man_2_col)\n",
    "        if temp_dist > total_dist:\n",
    "            total_dist = temp_dist\n",
    "            new_pos = (sheep_row-1, sheep_col-1)\n",
    "    \n",
    "    if single_up_left_move_possible(sheep_row, sheep_col):\n",
    "        temp_dist = dist_nearest_corner(sheep_row+1, sheep_col-1) + manhattan_dist(sheep_row+1, sheep_col-1, man_1_row, man_1_col) + manhattan_dist(sheep_row+1, sheep_col-1, man_2_row, man_2_col)\n",
    "        if temp_dist > total_dist:\n",
    "            total_dist = temp_dist\n",
    "            new_pos = (sheep_row+1, sheep_col-1)\n",
    "    \n",
    "    if manhattan_dist(sheep_row, sheep_col, man_1_row, man_1_col) > 2 and manhattan_dist(sheep_row, sheep_col, man_2_row, man_2_col) > 2:\n",
    "        return (sheep_row, sheep_col)\n",
    "    \n",
    "    return new_pos\n",
    "        \n",
    "        "
   ]
  },
  {
   "cell_type": "code",
   "execution_count": 23,
   "metadata": {
    "scrolled": true
   },
   "outputs": [
    {
     "name": "stdout",
     "output_type": "stream",
     "text": [
      "Game: 0\n",
      "Sheep wins\n",
      "Game: 1\n",
      "Sheep wins\n"
     ]
    }
   ],
   "source": [
    "# Testing the game\n",
    "for i in range(2):\n",
    "    print('Game:',i)\n",
    "    (man_1_row, man_1_col, man_2_row, man_2_col, sheep_row, sheep_col) = initialize_grid()\n",
    "    flag = 0\n",
    "\n",
    "    \n",
    "    (is_winning_position, winner) = winning_position(man_1_row, man_1_col, man_2_row, man_2_col, sheep_row, sheep_col)\n",
    "    if is_winning_position == True:\n",
    "        print(winner + ' wins without moving')\n",
    "        continue\n",
    "\n",
    "    for move in range(MAX_MOVES):\n",
    "        (new_man_1_row, new_man_1_col) = update_man_position(man_1_row, man_1_col, man_2_row, man_2_col, sheep_row, sheep_col)\n",
    "        (new_man_2_row, new_man_2_col) = update_man_position(man_2_row, man_2_col, man_1_row, man_1_col, sheep_row, sheep_col)\n",
    "        (new_sheep_row, new_sheep_col) = update_sheep_position(man_1_row, man_1_col, man_2_row, man_2_col, sheep_row, sheep_col)\n",
    "\n",
    "\n",
    "        (man_1_row, man_1_col) = (new_man_1_row, new_man_1_col)\n",
    "        (man_2_row, man_2_col) = (new_man_2_row, new_man_2_col)\n",
    "        (sheep_row, sheep_col) = (new_sheep_row, new_sheep_col)\n",
    "\n",
    "#         print((man_1_row, man_1_col), end = ', ' )\n",
    "#         print((man_2_row, man_2_col), end = ', ' )\n",
    "#         print((sheep_row, sheep_col))\n",
    "        (is_winning_position, winner) = winning_position(man_1_row, man_1_col, man_2_row, man_2_col, sheep_row, sheep_col)\n",
    "        if is_winning_position == True:\n",
    "            print(winner + ' wins')\n",
    "            flag = 1\n",
    "            break\n",
    "\n",
    "\n",
    "    if flag == 0:\n",
    "        print('Sheep wins')"
   ]
  },
  {
   "cell_type": "code",
   "execution_count": null,
   "metadata": {},
   "outputs": [],
   "source": []
  }
 ],
 "metadata": {
  "kernelspec": {
   "display_name": "Python 3",
   "language": "python",
   "name": "python3"
  },
  "language_info": {
   "codemirror_mode": {
    "name": "ipython",
    "version": 3
   },
   "file_extension": ".py",
   "mimetype": "text/x-python",
   "name": "python",
   "nbconvert_exporter": "python",
   "pygments_lexer": "ipython3",
   "version": "3.7.7"
  }
 },
 "nbformat": 4,
 "nbformat_minor": 2
}
